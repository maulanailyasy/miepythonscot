{
 "cells": [
  {
   "cell_type": "markdown",
   "metadata": {},
   "source": [
    "# Mie Scattering Function\n",
    "\n",
    "**Scott Prahl**\n",
    "\n",
    "**1 Aug 2019, Version 6**"
   ]
  },
  {
   "cell_type": "code",
   "execution_count": 1,
   "metadata": {},
   "outputs": [],
   "source": [
    "import sys\n",
    "import numpy as np\n",
    "import matplotlib.pyplot as plt\n",
    "\n",
    "try:\n",
    "    import miepython\n",
    "except:\n",
    "    print(\"***** You need to install the miepython module first   *****\")\n",
    "    print(\"***** Execute the following line in a new cell, then retry *****\")\n",
    "    print()\n",
    "    print(\"!{sys.executable} -m pip install --user miepython\")"
   ]
  },
  {
   "cell_type": "markdown",
   "metadata": {},
   "source": [
    "Mie scattering describes the special case of the interaction of light passing through a non-absorbing medium with a single embedded spherical object.  The sphere itself can be non-absorbing, moderately absorbing, or perfectly absorbing."
   ]
  },
  {
   "cell_type": "markdown",
   "metadata": {
    "heading_collapsed": true
   },
   "source": [
    "## Goals for this notebook:\n",
    "\n",
    "* show how to plot the phase function\n",
    "* explain the units for the scattering phase function\n",
    "* describe normalization of the phase function\n",
    "* show a few examples from classic Mie texts\n"
   ]
  },
  {
   "cell_type": "markdown",
   "metadata": {
    "heading_collapsed": true
   },
   "source": [
    "## Geometry\n",
    "\n",
    "Specifically, the scattering function $p(\\theta_i,\\phi_i,\\theta_o,\\phi_o)$ describes the amount of light scattered by a particle for light incident at an angle $(\\theta_i,\\phi_i)$ and exiting the particle (in the far field) at an angle $(\\theta_o,\\phi_o)$.  For simplicity, the scattering function is often assumed to be rotationally symmetric (it is, obviously, for spherical scatterers) and that the angle that the light is scattered into only depends the $\\theta=\\theta_o-\\theta_i$.  In this case, the scattering function can be written as $p(\\theta)$.  Finally, the angle is often replaced by $\\mu=\\cos\\theta$ and therefore the phase function becomes just $p(\\mu)$.\n",
    "\n",
    "The figure below shows the basic idea.  An incoming monochromatic plane wave hits a sphere and produces *in the far field* two separate monochromatic waves — a slightly attenuated unscattered planar wave and an outgoing spherical wave.\n",
    "\n",
    "Obviously. the scattered light will be cylindrically symmetric about the ray passing through the center of the sphere."
   ]
  },
  {
   "cell_type": "code",
   "execution_count": 2,
   "metadata": {
    "hidden": true,
    "scrolled": true
   },
   "outputs": [],
   "source": [
    "t = np.linspace(0,2*np.pi,100)\n",
    "xx = np.cos(t)\n",
    "yy = np.sin(t)\n",
    "fig,ax=plt.subplots(figsize=(10,8))\n",
    "plt.axes().set_aspect('equal')\n",
    "plt.plot(xx,yy)\n",
    "plt.plot([-5,7],[0,0],'--k')\n",
    "\n",
    "plt.annotate('incoming irradiance', xy=(-4.5,-2.3),ha='left',color='blue',fontsize=14)\n",
    "for i in range(6):\n",
    "    y0 = i -2.5\n",
    "    plt.annotate('',xy=(-1.5,y0),xytext=(-5,y0),arrowprops=dict(arrowstyle=\"->\",color='blue'))\n",
    "\n",
    "plt.annotate('unscattered irradiance', xy=(3,-2.3),ha='left',color='blue',fontsize=14)\n",
    "for i in range(6):\n",
    "    y0 = i -2.5\n",
    "    plt.annotate('',xy=(7,y0),xytext=(3,y0),arrowprops=dict(arrowstyle=\"->\",color='blue',ls=':'))\n",
    "\n",
    "plt.annotate('scattered\\nspherical\\nwave', xy=(0,1.5),ha='left',color='red',fontsize=16)\n",
    "plt.annotate('',xy=(2.5,2.5),xytext=(0,0),arrowprops=dict(arrowstyle=\"->\",color='red'))\n",
    "plt.annotate(r'$\\theta$',xy=(2,0.7),color='red',fontsize=14)\n",
    "plt.annotate('',xy=(2,2),xytext=(2.7,0),arrowprops=dict(connectionstyle=\"arc3,rad=0.2\", arrowstyle=\"<->\",color='red'))\n",
    "\n",
    "plt.xlim(-5,7)\n",
    "plt.ylim(-3,3)\n",
    "plt.axis('off')\n",
    "plt.show()"
   ]
  },
  {
   "cell_type": "markdown",
   "metadata": {},
   "source": [
    "## Scattered Wave"
   ]
  },
  {
   "cell_type": "code",
   "execution_count": 3,
   "metadata": {},
   "outputs": [],
   "source": [
    "fig,ax=plt.subplots(figsize=(10,8))\n",
    "plt.axes().set_aspect('equal')\n",
    "plt.scatter([0],[0],s=30)\n",
    "\n",
    "m = 1.5\n",
    "x = np.pi/3\n",
    "theta = np.linspace(-180,180,180)\n",
    "mu = np.cos(theta/180*np.pi)\n",
    "scat = 15 * miepython.i_unpolarized(m,x,mu)\n",
    "\n",
    "plt.plot(scat*np.cos(theta/180*np.pi),scat*np.sin(theta/180*np.pi))\n",
    "for i in range(12):\n",
    "    ii = i*15\n",
    "    xx = scat[ii]*np.cos(theta[ii]/180*np.pi)\n",
    "    yy = scat[ii]*np.sin(theta[ii]/180*np.pi)\n",
    "#    print(xx,yy)\n",
    "    plt.annotate('',xy=(xx,yy),xytext=(0,0),arrowprops=dict(arrowstyle=\"->\",color='red'))\n",
    "    \n",
    "\n",
    "plt.annotate('incident irradiance', xy=(-4.5,-2.3),ha='left',color='blue',fontsize=14)\n",
    "for i in range(6):\n",
    "    y0 = i -2.5\n",
    "    plt.annotate('',xy=(-1.5,y0),xytext=(-5,y0),arrowprops=dict(arrowstyle=\"->\",color='blue'))\n",
    "\n",
    "plt.annotate('unscattered irradiance', xy=(3,-2.3),ha='left',color='blue',fontsize=14)\n",
    "for i in range(6):\n",
    "    y0 = i -2.5\n",
    "    plt.annotate('',xy=(7,y0),xytext=(3,y0),arrowprops=dict(arrowstyle=\"->\",color='blue',ls=':'))\n",
    "\n",
    "plt.annotate('scattered\\nspherical wave', xy=(0,1.5),ha='left',color='red',fontsize=16)\n",
    "\n",
    "plt.xlim(-5,7)\n",
    "plt.ylim(-3,3)\n",
    "#plt.axis('off')\n",
    "plt.show()"
   ]
  },
  {
   "cell_type": "markdown",
   "metadata": {},
   "source": [
    "## Normalization of the scattered light\n",
    "\n",
    "So the scattering function or phase function has at least three reasonable normalizations that involve integrating over all $4\\pi$ steradians.  Below $d\\Omega=\\sin\\theta d\\theta\\,d\\phi$ is a differential solid angle\n",
    "\n",
    "$$\n",
    "\\begin{align}\n",
    "\\int_{4\\pi} p(\\theta,\\phi) \\,d\\Omega &= 1\\\\[2mm]\n",
    "\\int_{4\\pi} p(\\theta,\\phi) \\,d\\Omega &= 4\\pi \\\\[2mm]\n",
    "\\int_{4\\pi} p(\\theta,\\phi) \\,d\\Omega &= a  \\qquad\\qquad \\mbox{Used by miepython}\\\\[2mm]\n",
    "\\end{align}\n",
    "$$\n",
    "\n",
    "where $a$ is the single scattering albedo,\n",
    "\n",
    "$$\n",
    "a = \\frac{\\sigma_s}{\\sigma_s+\\sigma_a}\n",
    "$$\n",
    "\n",
    "and $\\sigma_s$ is the scattering cross section, and $\\sigma_a$ is the absorption cross section.\n",
    "\n",
    "*The choice of normalization was made because it accounts for light lost through absorption by the sphere.*\n",
    "\n",
    "If the incident light has units of watts, then the values from the scattering function $p(\\theta,\\phi)$ have units of radiant intensity or W/sr.  \n",
    "\n",
    "For example, a circular detector with radius $r_d$ at a distance $R$  will subtend an angle\n",
    "\n",
    "$$\n",
    "\\Omega = \\frac{\\pi r_d^2}{R^2}\n",
    "$$\n",
    "\n",
    "(assuming $r_d\\ll R$). Now if $P_0$ of light is scattered by a sphere then the scattered power on the detector will be\n",
    "\n",
    "$$\n",
    "P_d = P_0 \\cdot \\Omega \\cdot p(\\theta,\\phi)\n",
    "$$"
   ]
  },
  {
   "cell_type": "markdown",
   "metadata": {
    "heading_collapsed": true
   },
   "source": [
    "## Examples\n",
    "\n",
    "### Unpolarized Scattering Function\n",
    "\n",
    "If unpolarized light hits the sphere, then there are no polarization effects to worry about.  It is pretty easy to generate a plot to show how scattering changes with angle."
   ]
  },
  {
   "cell_type": "code",
   "execution_count": 4,
   "metadata": {
    "hidden": true
   },
   "outputs": [],
   "source": [
    "m = 1.5\n",
    "x = np.pi/3\n",
    "theta = np.linspace(-180,180,180)\n",
    "mu = np.cos(theta/180*np.pi)\n",
    "scat = miepython.i_unpolarized(m,x,mu)\n",
    "\n",
    "fig,ax = plt.subplots(1,2,figsize=(12,5))\n",
    "ax=plt.subplot(121, projection='polar')\n",
    "ax.plot(theta/180*np.pi,scat)\n",
    "ax.set_rticks([0.05, 0.1,0.15]) \n",
    "ax.set_title(\"m=1.5, Sphere Diameter = $\\lambda$/3\")\n",
    "\n",
    "plt.subplot(122)\n",
    "plt.plot(theta,scat)\n",
    "plt.xlabel('Exit Angle [degrees]')\n",
    "plt.ylabel('Unpolarized Scattered light [1/sr]')\n",
    "plt.title('m=1.5, Sphere Diameter = $\\lambda$/3')\n",
    "plt.ylim(0.00,0.2)\n",
    "\n",
    "plt.show()"
   ]
  },
  {
   "cell_type": "markdown",
   "metadata": {},
   "source": [
    "A similar calculation but using `ez_intensities()`"
   ]
  },
  {
   "cell_type": "code",
   "execution_count": 5,
   "metadata": {
    "hidden": true
   },
   "outputs": [],
   "source": [
    "m = 1.33\n",
    "lambda0 = 632.8 # nm\n",
    "d = 200        # nm\n",
    "\n",
    "theta = np.linspace(-180,180,180)\n",
    "mu = np.cos(theta/180*np.pi)\n",
    "\n",
    "Ipar, Iper = miepython.ez_intensities(m, d, lambda0, mu)\n",
    "\n",
    "fig,ax = plt.subplots(1,2,figsize=(12,5))\n",
    "ax=plt.subplot(121, projection='polar')\n",
    "ax.plot(theta/180*np.pi,Ipar)\n",
    "ax.plot(theta/180*np.pi,Iper)\n",
    "\n",
    "ax.set_rticks([0.05, 0.1, 0.15, 0.20]) \n",
    "plt.title(\"m=%.2f, Sphere Diameter = %.0f nm, $\\lambda$=%.1f nm\" % (m, d, lambda0))\n",
    "\n",
    "plt.subplot(122)\n",
    "plt.plot(theta,Ipar)\n",
    "plt.plot(theta,Iper)\n",
    "\n",
    "plt.xlabel('Exit Angle [degrees]')\n",
    "plt.ylabel('Unpolarized Scattered light [1/sr]')\n",
    "plt.title(\"m=%.2f, Sphere Diameter = %.0f nm, $\\lambda$=%.1f nm\" % (m, d, lambda0))\n",
    "plt.ylim(0.00,0.2)\n",
    "\n",
    "plt.show()"
   ]
  },
  {
   "cell_type": "markdown",
   "metadata": {},
   "source": [
    "### Rayleigh Scattering\n",
    "\n",
    "Classic Rayleigh scattering treats small particles with natural (unpolarized) light.  \n",
    "The solid black line denotes the total scattered intensity. The red dashed line is light scattered that is polarized perpendicular to the plane of the graph and the blue dotted line is for light parallel to the plane of the graph. (Compare with van de Hult, Figure 10)"
   ]
  },
  {
   "cell_type": "code",
   "execution_count": 6,
   "metadata": {},
   "outputs": [],
   "source": [
    "m = 1.3\n",
    "x = 0.01\n",
    "theta = np.linspace(-180,180,180)\n",
    "mu = np.cos(theta/180*np.pi)\n",
    "ipar = miepython.i_par(m,x,mu)/2\n",
    "iper = miepython.i_per(m,x,mu)/2\n",
    "iun  = miepython.i_unpolarized(m,x,mu)\n",
    "\n",
    "fig,ax = plt.subplots(1,2,figsize=(12,5))\n",
    "ax=plt.subplot(121, projection='polar')\n",
    "ax.plot(theta/180*np.pi,iper,'r--')\n",
    "ax.plot(theta/180*np.pi,ipar,'b:')\n",
    "ax.plot(theta/180*np.pi,iun,'k')\n",
    "\n",
    "ax.set_rticks([0.05, 0.1,0.15]) \n",
    "plt.title('m=%.2f, Sphere Parameter = %.2f' %(m,x))\n",
    "\n",
    "plt.subplot(122)\n",
    "plt.plot(theta,iper,'r--')\n",
    "plt.plot(theta,ipar,'b:')\n",
    "plt.plot(theta,iun,'k')\n",
    "\n",
    "plt.xlabel('Exit Angle [degrees]')\n",
    "plt.ylabel('Normalized Scattered light [1/sr]')\n",
    "plt.title('m=%.2f, Sphere Parameter = %.2f' %(m,x))\n",
    "plt.ylim(0.00,0.125)\n",
    "plt.text(130,0.02,r\"$0.5I_{per}$\",color=\"blue\", fontsize=16)\n",
    "plt.text(120,0.062,r\"$0.5I_{par}$\",color=\"red\", fontsize=16)\n",
    "plt.text(30,0.11,r\"$I_{unpolarized}$\",color=\"black\", fontsize=16)\n",
    "\n",
    "\n",
    "plt.show()"
   ]
  },
  {
   "cell_type": "markdown",
   "metadata": {},
   "source": [
    "## Differential Scattering Cross Section\n",
    "\n",
    "Sometimes one would like the scattering function normalized so that the integral over all $4\\pi$ steradians to be the scattering cross section\n",
    "\n",
    "$$\n",
    "\\sigma_{sca} = \\frac{\\pi d^2}{4} Q_{sca}\n",
    "$$\n",
    "\n",
    "The *differential scattering cross section* \\frac{d\\sigma_{sca}}{d\\Omega}\n",
    "\n",
    "$$\n",
    "\\sigma_{sca} = \\int_{4\\pi} \\frac{d\\sigma_{sca}}{d\\Omega}\\,d\\Omega\n",
    "$$\n",
    "\n",
    "Since the unpolarized scattering normalized so its integral is the single scattering albedo, this means that\n",
    "\n",
    "$$\n",
    "\\frac{Q_{sca}}{Q_{ext}} = \\int_{4\\pi} p(\\mu) \\sin\\theta\\,d\\theta d\\phi \n",
    "$$\n",
    "\n",
    "and therefore the differential scattering cross section can be obtained `miepython` using\n",
    "\n",
    "$$\n",
    "\\frac{d\\sigma_{sca}}{d\\Omega} = \\frac{\\pi d^2 Q_{ext}}{4} \\cdot p(\\theta,\\phi)\n",
    "$$ \n",
    "\n",
    "Note that this is $Q_{ext}$ and *not* $Q_{sca}$ because of the choice of normalization!\n",
    "\n",
    "For example, here is a replica of [figure 4](http://plaza.ufl.edu/dwhahn/Rayleigh%20and%20Mie%20Light%20Scattering.pdf)"
   ]
  },
  {
   "cell_type": "code",
   "execution_count": 7,
   "metadata": {},
   "outputs": [],
   "source": [
    "m = 1.4-0j\n",
    "lambda0 = 532e-9  # m\n",
    "theta = np.linspace(0,180,1000)\n",
    "mu = np.cos(theta* np.pi/180)\n",
    "\n",
    "d = 1700e-9        # m\n",
    "x = 2 * np.pi/lambda0 * d/2\n",
    "geometric_cross_section = np.pi * d**2/4 * 1e4  # cm**2\n",
    "qext, qsca, qback, g = miepython.mie(m,x)\n",
    "sigma_sca = geometric_cross_section * qext * miepython.i_unpolarized(m,x,mu)\n",
    "plt.semilogy(theta, sigma_sca*1e-3, color='blue')\n",
    "plt.text(15, sigma_sca[0]*3e-4, \"%.0fnm\\n(x10$^{-3}$)\" % (d*1e9), color='blue')\n",
    "\n",
    "d = 170e-9         # m\n",
    "x = 2 * np.pi/lambda0 * d/2\n",
    "geometric_cross_section = np.pi * d**2/4 * 1e4  # cm**2\n",
    "qext, qsca, qback, g = miepython.mie(m,x)\n",
    "sigma_sca = geometric_cross_section * qext * miepython.i_unpolarized(m,x,mu)\n",
    "plt.semilogy(theta, sigma_sca, color='red')\n",
    "plt.text(110, sigma_sca[-1]/2, \"%.0fnm\" % (d*1e9), color='red')\n",
    "\n",
    "d = 17e-9                                                       # m\n",
    "x = 2 * np.pi/lambda0 * d/2\n",
    "geometric_cross_section = np.pi * d**2/4 * 1e4                 # cm**2\n",
    "qext, qsca, qback, g = miepython.mie(m,x)\n",
    "sigma_sca = geometric_cross_section * qext * miepython.i_unpolarized(m,x,mu)\n",
    "plt.semilogy(theta, sigma_sca*1e6, color='green')\n",
    "plt.text(130, sigma_sca[-1]*1e6, \"(x10$^6$)\\n%.0fnm\" % (d*1e9), color='green')\n",
    "\n",
    "plt.title(\"Refractive index m=1.4, $\\lambda$=532nm\")\n",
    "plt.xlabel(\"Scattering Angle (degrees)\")\n",
    "plt.ylabel(\"Diff. Scattering Cross Section (cm$^2$/sr)\")\n",
    "plt.grid(True)\n",
    "plt.show()"
   ]
  },
  {
   "cell_type": "markdown",
   "metadata": {
    "heading_collapsed": true
   },
   "source": [
    "## Normalization revisited"
   ]
  },
  {
   "cell_type": "markdown",
   "metadata": {},
   "source": [
    "### Evenly spaced $\\mu=\\cos\\theta$\n",
    "\n",
    "Start with uniformly distributed scattering angles that are evenly spaced over the cosine of the scattered angle."
   ]
  },
  {
   "cell_type": "markdown",
   "metadata": {},
   "source": [
    "#### Verifying normalization numerically\n",
    "\n",
    "Specifically, to ensure proper normalization, the integral of the scattering function over all solid angles must be unity\n",
    "\n",
    "$$\n",
    "a = \\int_0^{2\\pi}\\int_0^\\pi \\, p(\\theta,\\phi)\\,\\sin\\theta\\,d\\theta\\,d\\phi\n",
    "$$\n",
    "\n",
    "or with a change of variables $\\mu=\\cos\\theta$ and using the symmetry to the integral in $\\phi$\n",
    "\n",
    "$$\n",
    "a = 2\\pi \\int_{-1}^1 \\, p(\\mu)\\,d\\mu\n",
    "$$\n",
    "\n",
    "This integral can be done numerically by simply summing all the rectangles\n",
    "\n",
    "$$\n",
    "a = 2\\pi \\sum_{i=0}^N p(\\mu_i)\\,\\Delta\\mu_i\n",
    "$$\n",
    "\n",
    "and if all the rectanges have the same width\n",
    "\n",
    "$$\n",
    "a = 2\\pi\\Delta\\mu \\sum_{i=0}^N p(\\mu_i)\n",
    "$$"
   ]
  },
  {
   "cell_type": "markdown",
   "metadata": {
    "hidden": true
   },
   "source": [
    "#### Case 1. n=1.5, x=1\n",
    "\n",
    "The total integral `total=` in the title should match the albedo `a=`.  \n",
    "\n",
    "For this non-strongly peaked scattering function, the simple integration remains close to the expected value."
   ]
  },
  {
   "cell_type": "code",
   "execution_count": 8,
   "metadata": {
    "hidden": true
   },
   "outputs": [],
   "source": [
    "m = 1.5\n",
    "x = 1\n",
    "mu = np.linspace(-1,1,501)\n",
    "intensity = miepython.i_unpolarized(m,x,mu)\n",
    "qext, qsca, qback, g = miepython.mie(m,x)\n",
    "a = qsca/qext\n",
    "\n",
    "#integrate over all angles\n",
    "dmu = mu[1] - mu[0]\n",
    "total = 2 * np.pi * dmu * np.sum(intensity)\n",
    "\n",
    "plt.plot(mu,intensity)\n",
    "plt.xlabel(r'$\\cos(\\theta)$')\n",
    "plt.ylabel('Unpolarized Scattering Intensity [1/sr]')\n",
    "plt.title('m=%.3f%+.3fj, x=%.2f, a=%.3f, total=%.3f'%(m.real,m.imag,x,a, total))\n",
    "plt.show()"
   ]
  },
  {
   "cell_type": "markdown",
   "metadata": {
    "hidden": true
   },
   "source": [
    "#### Case 2: m=1.5-1.5j, x=1\n",
    "\n",
    "Aagin the total integral `total=` in the title should match the albedo `a=`.  \n",
    "\n",
    "For this non-strongly peaked scattering function, the simple integration remains close to the expected value."
   ]
  },
  {
   "cell_type": "code",
   "execution_count": 9,
   "metadata": {
    "hidden": true
   },
   "outputs": [],
   "source": [
    "m = 1.5 - 1.5j\n",
    "x = 1\n",
    "mu = np.linspace(-1,1,501)\n",
    "intensity = miepython.i_unpolarized(m,x,mu)\n",
    "qext, qsca, qback, g = miepython.mie(m,x)\n",
    "a = qsca/qext\n",
    "\n",
    "#integrate over all angles\n",
    "dmu = mu[1] - mu[0]\n",
    "total = 2 * np.pi * dmu * np.sum(intensity)\n",
    "\n",
    "plt.plot(mu,intensity)\n",
    "plt.xlabel(r'$\\cos(\\theta)$')\n",
    "plt.ylabel('Unpolarized Scattering Intensity [1/sr]')\n",
    "plt.title('m=%.3f%+.3fj, x=%.2f, a=%.3f, total=%.3f'%(m.real,m.imag,x,a, total))\n",
    "plt.show()"
   ]
  },
  {
   "cell_type": "markdown",
   "metadata": {
    "heading_collapsed": true,
    "hidden": true
   },
   "source": [
    "## Normalization, evenly spaced $\\theta$\n",
    "\n",
    "The total integral total in the title should match the albedo $a$.\n",
    "\n",
    "For this non-strongly peaked scattering function, even spacing in $\\theta$ improves the accuracy of the integration."
   ]
  },
  {
   "cell_type": "code",
   "execution_count": 10,
   "metadata": {
    "hidden": true
   },
   "outputs": [],
   "source": [
    "m = 1.5-1.5j\n",
    "x = 1\n",
    "theta = np.linspace(0,180,361)*np.pi/180\n",
    "mu = np.cos(theta)\n",
    "\n",
    "intensity = miepython.i_unpolarized(m,x,mu)\n",
    "qext, qsca, qback, g = miepython.mie(m,x)\n",
    "a = qsca/qext\n",
    "\n",
    "#integrate over all angles\n",
    "dtheta = theta[1]-theta[0]\n",
    "total = 2 * np.pi * dtheta * np.sum(intensity* np.sin(theta))\n",
    "\n",
    "plt.plot(mu,intensity)\n",
    "plt.xlabel(r'$\\cos(\\theta)$')\n",
    "plt.ylabel('Unpolarized Scattering Intensity [1/sr]')\n",
    "plt.title('m=%.3f%+.3fj, x=%.2f, a=%.3f, total=%.3f'%(m.real,m.imag,x,a, total))\n",
    "plt.show()\n"
   ]
  },
  {
   "cell_type": "markdown",
   "metadata": {},
   "source": [
    "## Comparison to Wiscombe's Mie Program\n",
    "\n",
    "Wiscombe normalizes as\n",
    "\n",
    "$$\n",
    "\\int_{4\\pi} p(\\theta,\\phi) \\,d\\Omega = \\pi x^2  Q_{sca}\n",
    "$$\n",
    "\n",
    "where $p(\\theta)$ is the scattered light.\n",
    "\n",
    "Once corrected for differences in phase function normalization, Wiscombe's test cases match those from `miepython` exactly.\n",
    "\n",
    "### Wiscombe's Test Case 14"
   ]
  },
  {
   "cell_type": "code",
   "execution_count": 11,
   "metadata": {},
   "outputs": [],
   "source": [
    "\"\"\"\n",
    "MIEV0 Test Case 14:  Refractive index:  real    1.500  imag  -1.000E+00,  Mie size parameter =     1.000\n",
    "  Angle    Cosine           S-sub-1                     S-sub-2               Intensity  Deg of Polzn\n",
    "   0.00  1.000000   5.84080E-01   1.90515E-01   5.84080E-01   1.90515E-01   3.77446E-01        0.0000\n",
    "  30.00  0.866025   5.65702E-01   1.87200E-01   5.00161E-01   1.45611E-01   3.13213E-01       -0.1336\n",
    "  60.00  0.500000   5.17525E-01   1.78443E-01   2.87964E-01   4.10540E-02   1.92141E-01       -0.5597\n",
    "  90.00  0.000000   4.56340E-01   1.67167E-01   3.62285E-02  -6.18265E-02   1.20663E-01       -0.9574\n",
    "\"\"\"\n",
    "\n",
    "x=1.0\n",
    "m=1.5-1.0j\n",
    "mu=np.cos(np.linspace(0,90,4) * np.pi/180)\n",
    "\n",
    "qext, qsca, qback, g = miepython.mie(m,x)\n",
    "albedo = qsca/qext\n",
    "unpolar = miepython.i_unpolarized(m,x,mu) # normalized to a\n",
    "unpolar /= albedo                  # normalized to 1\n",
    "\n",
    "unpolar_miev = np.array([3.77446E-01,3.13213E-01,1.92141E-01,1.20663E-01])\n",
    "unpolar_miev /= np.pi * qsca * x**2                         # normalized to 1\n",
    "ratio = unpolar_miev/unpolar\n",
    "\n",
    "print(\"MIEV0 Test Case 14:  m=1.500-1.000j,  Mie size parameter =     1.000\")\n",
    "print()\n",
    "print(\"             %9.1f°%9.1f°%9.1f°%9.1f°\"%(0,30,60,90))\n",
    "print(\"MIEV0        %9.5f %9.5f %9.5f %9.5f\"%(unpolar_miev[0],unpolar_miev[1],unpolar_miev[2],unpolar_miev[3]))\n",
    "print(\"miepython    %9.5f %9.5f %9.5f %9.5f\"%(unpolar[0],unpolar[1],unpolar[2],unpolar[3]))\n",
    "print(\"ratio        %9.5f %9.5f %9.5f %9.5f\"%(ratio[0],ratio[1],ratio[2],ratio[3]))"
   ]
  },
  {
   "cell_type": "markdown",
   "metadata": {},
   "source": [
    "### Wiscombe's Test Case 10"
   ]
  },
  {
   "cell_type": "code",
   "execution_count": 12,
   "metadata": {},
   "outputs": [],
   "source": [
    "\"\"\"\n",
    "MIEV0 Test Case 10:  Refractive index:  real    1.330  imag  -1.000E-05,  Mie size parameter =   100.000\n",
    "  Angle    Cosine           S-sub-1                     S-sub-2               Intensity  Deg of Polzn\n",
    "   0.00  1.000000   5.25330E+03  -1.24319E+02   5.25330E+03  -1.24319E+02   2.76126E+07        0.0000\n",
    "  30.00  0.866025  -5.53457E+01  -2.97188E+01  -8.46720E+01  -1.99947E+01   5.75775E+03        0.3146\n",
    "  60.00  0.500000   1.71049E+01  -1.52010E+01   3.31076E+01  -2.70979E+00   8.13553E+02        0.3563\n",
    "  90.00  0.000000  -3.65576E+00   8.76986E+00  -6.55051E+00  -4.67537E+00   7.75217E+01       -0.1645\n",
    "\"\"\"\n",
    "\n",
    "x=100.0\n",
    "m=1.33-1e-5j\n",
    "mu=np.cos(np.linspace(0,90,4) * np.pi/180)\n",
    "\n",
    "qext, qsca, qback, g = miepython.mie(m,x)\n",
    "albedo = qsca/qext\n",
    "unpolar = miepython.i_unpolarized(m,x,mu) # normalized to a\n",
    "unpolar /= albedo                  # normalized to 1\n",
    "\n",
    "unpolar_miev = np.array([2.76126E+07,5.75775E+03,8.13553E+02,7.75217E+01])\n",
    "unpolar_miev /= np.pi * qsca * x**2                         # normalized to 1\n",
    "ratio = unpolar_miev/unpolar\n",
    "\n",
    "print(\"MIEV0 Test Case 10:  m=1.330-0.00001j,  Mie size parameter =     100.000\")\n",
    "print()\n",
    "print(\"             %9.1f°%9.1f°%9.1f°%9.1f°\"%(0,30,60,90))\n",
    "print(\"MIEV0        %9.5f %9.5f %9.5f %9.5f\"%(unpolar_miev[0],unpolar_miev[1],unpolar_miev[2],unpolar_miev[3]))\n",
    "print(\"miepython    %9.5f %9.5f %9.5f %9.5f\"%(unpolar[0],unpolar[1],unpolar[2],unpolar[3]))\n",
    "print(\"ratio        %9.5f %9.5f %9.5f %9.5f\"%(ratio[0],ratio[1],ratio[2],ratio[3]))"
   ]
  },
  {
   "cell_type": "markdown",
   "metadata": {},
   "source": [
    "### Wiscombe's Test Case 7"
   ]
  },
  {
   "cell_type": "code",
   "execution_count": 13,
   "metadata": {},
   "outputs": [],
   "source": [
    "\"\"\"\n",
    "MIEV0 Test Case  7:  Refractive index:  real    0.750  imag   0.000E+00,  Mie size parameter =    10.000\n",
    "  Angle    Cosine           S-sub-1                     S-sub-2               Intensity  Deg of Polzn\n",
    "   0.00  1.000000   5.58066E+01  -9.75810E+00   5.58066E+01  -9.75810E+00   3.20960E+03        0.0000\n",
    "  30.00  0.866025  -7.67288E+00   1.08732E+01  -1.09292E+01   9.62967E+00   1.94639E+02        0.0901\n",
    "  60.00  0.500000   3.58789E+00  -1.75618E+00   3.42741E+00   8.08269E-02   1.38554E+01       -0.1517\n",
    "  90.00  0.000000  -1.78590E+00  -5.23283E-02  -5.14875E-01  -7.02729E-01   1.97556E+00       -0.6158\n",
    "\"\"\"\n",
    "\n",
    "x=10.0\n",
    "m=0.75\n",
    "mu=np.cos(np.linspace(0,90,4) * np.pi/180)\n",
    "\n",
    "qext, qsca, qback, g = miepython.mie(m,x)\n",
    "albedo = qsca/qext\n",
    "unpolar = miepython.i_unpolarized(m,x,mu) # normalized to a\n",
    "unpolar /= albedo                  # normalized to 1\n",
    "\n",
    "unpolar_miev = np.array([3.20960E+03,1.94639E+02,1.38554E+01,1.97556E+00])\n",
    "unpolar_miev /= np.pi * qsca * x**2                          # normalized to 1\n",
    "ratio = unpolar_miev/unpolar\n",
    "\n",
    "print(\"MIEV0 Test Case 7:  m=0.75,  Mie size parameter =     10.000\")\n",
    "print()\n",
    "print(\"             %9.1f°%9.1f°%9.1f°%9.1f°\"%(0,30,60,90))\n",
    "print(\"MIEV0        %9.5f %9.5f %9.5f %9.5f\"%(unpolar_miev[0],unpolar_miev[1],unpolar_miev[2],unpolar_miev[3]))\n",
    "print(\"miepython    %9.5f %9.5f %9.5f %9.5f\"%(unpolar[0],unpolar[1],unpolar[2],unpolar[3]))\n",
    "print(\"ratio        %9.5f %9.5f %9.5f %9.5f\"%(ratio[0],ratio[1],ratio[2],ratio[3]))"
   ]
  },
  {
   "cell_type": "markdown",
   "metadata": {},
   "source": [
    "## Comparison to Bohren & Huffmans's Mie Program\n",
    "\n",
    "Bohren & Huffman normalizes as\n",
    "\n",
    "$$\n",
    "\\int_{4\\pi} p(\\theta,\\phi) \\,d\\Omega = 4 \\pi x^2  Q_{sca}\n",
    "$$"
   ]
  },
  {
   "cell_type": "markdown",
   "metadata": {},
   "source": [
    "### Bohren & Huffmans's Test Case 14"
   ]
  },
  {
   "cell_type": "code",
   "execution_count": 14,
   "metadata": {},
   "outputs": [],
   "source": [
    "\"\"\"\n",
    "BHMie Test Case 14, Refractive index = 1.5000-1.0000j, Size parameter = 1.0000\n",
    "\n",
    "Angle  Cosine              S1                        S2             \n",
    "0.00   1.0000  -8.38663e-01 -8.64763e-01  -8.38663e-01 -8.64763e-01 \n",
    "0.52   0.8660  -8.19225e-01 -8.61719e-01  -7.21779e-01 -7.27856e-01\n",
    "1.05   0.5000  -7.68157e-01 -8.53697e-01  -4.19454e-01 -3.72965e-01\n",
    "1.57   0.0000  -7.03034e-01 -8.43425e-01  -4.44461e-02  6.94424e-02\n",
    "\"\"\"\n",
    "\n",
    "x=1.0\n",
    "m=1.5-1j\n",
    "mu=np.cos(np.linspace(0,90,4) * np.pi/180)\n",
    "\n",
    "qext, qsca, qback, g = miepython.mie(m,x)\n",
    "albedo = qsca/qext\n",
    "unpolar = miepython.i_unpolarized(m,x,mu) # normalized to a\n",
    "unpolar /= albedo                  # normalized to 1\n",
    "\n",
    "s1_bh = np.empty(4,dtype=np.complex)\n",
    "s1_bh[0] = -8.38663e-01 - 8.64763e-01*1j\n",
    "s1_bh[1] = -8.19225e-01 - 8.61719e-01*1j\n",
    "s1_bh[2] = -7.68157e-01 - 8.53697e-01*1j\n",
    "s1_bh[3] = -7.03034e-01 - 8.43425e-01*1j\n",
    "\n",
    "s2_bh = np.empty(4,dtype=np.complex)\n",
    "s2_bh[0] = -8.38663e-01 - 8.64763e-01*1j\n",
    "s2_bh[1] = -7.21779e-01 - 7.27856e-01*1j\n",
    "s2_bh[2] = -4.19454e-01 - 3.72965e-01*1j\n",
    "s2_bh[3] = -4.44461e-02 + 6.94424e-02*1j\n",
    "\n",
    "# BHMie seems to normalize their intensities to 4 * pi * x**2 * Qsca\n",
    "unpolar_bh = (abs(s1_bh)**2+abs(s2_bh)**2)/2\n",
    "unpolar_bh /= np.pi * qsca * 4 * x**2                          # normalized to 1\n",
    "ratio = unpolar_bh/unpolar\n",
    "\n",
    "print(\"BHMie Test Case 14:  m=1.5000-1.0000j, Size parameter = 1.0000\")\n",
    "print()\n",
    "print(\"             %9.1f°%9.1f°%9.1f°%9.1f°\"%(0,30,60,90))\n",
    "print(\"BHMIE        %9.5f %9.5f %9.5f %9.5f\"%(unpolar_bh[0],unpolar_bh[1],unpolar_bh[2],unpolar_bh[3]))\n",
    "print(\"miepython    %9.5f %9.5f %9.5f %9.5f\"%(unpolar[0],unpolar[1],unpolar[2],unpolar[3]))\n",
    "print(\"ratio        %9.5f %9.5f %9.5f %9.5f\"%(ratio[0],ratio[1],ratio[2],ratio[3]))\n",
    "print()\n",
    "print(\"Note that this test is identical to MIEV0 Test Case 14 above.\")\n",
    "print()\n",
    "print(\"Wiscombe's code is much more robust than Bohren's so I attribute errors all to Bohren\")"
   ]
  },
  {
   "cell_type": "markdown",
   "metadata": {},
   "source": [
    "### Bohren & Huffman, water droplets\n",
    "\n",
    "Tiny water droplet (0.26 microns) in clouds has pretty strong forward scattering!  A graph of this is figure 4.9 in Bohren and Huffman's *Absorption and Scattering of Light by Small Particles*.  \n",
    "\n",
    "A bizarre scaling factor of $16\\pi$ is needed to make the `miepython` results match those in the figure 4.9.  "
   ]
  },
  {
   "cell_type": "code",
   "execution_count": 15,
   "metadata": {},
   "outputs": [],
   "source": [
    "x=3\n",
    "m=1.33-1e-8j\n",
    "\n",
    "theta = np.linspace(0,180,181)\n",
    "mu = np.cos(theta*np.pi/180)\n",
    "\n",
    "scaling_factor = 16*np.pi\n",
    "iper = scaling_factor*miepython.i_per(m,x,mu)\n",
    "ipar = scaling_factor*miepython.i_par(m,x,mu)\n",
    "\n",
    "P = (iper-ipar)/(iper+ipar)\n",
    "\n",
    "plt.subplots(2,1,figsize=(8,8))\n",
    "plt.subplot(2,1,1)\n",
    "plt.semilogy(theta,ipar,label='$i_{par}$')\n",
    "plt.semilogy(theta,iper,label='$i_{per}$')\n",
    "plt.xlim(0,180)\n",
    "plt.xticks(range(0,181,30))\n",
    "plt.ylabel('i$_{par}$ and i$_{per}$')\n",
    "plt.legend()\n",
    "plt.title('Figure 4.9 from Bohren & Huffman')\n",
    "plt.subplot(2,1,2)\n",
    "plt.plot(theta,P)\n",
    "plt.ylim(-1,1)\n",
    "plt.xticks(range(0,181,30))\n",
    "plt.xlim(0,180)\n",
    "plt.ylabel('Polarization')\n",
    "plt.plot([0,180],[0,0],':k')\n",
    "plt.xlabel('Angle (Degrees)')\n",
    "plt.show()"
   ]
  },
  {
   "cell_type": "markdown",
   "metadata": {},
   "source": [
    "## van de Hulst Comparison\n",
    "\n",
    "This graph (see figure 29 in *Light Scattering by Small Particles*) was obviously constructed by hand.  In this graph, van de Hulst worked hard to get as much information as possible "
   ]
  },
  {
   "cell_type": "code",
   "execution_count": 16,
   "metadata": {},
   "outputs": [],
   "source": [
    "x=5\n",
    "m=10000\n",
    "\n",
    "theta = np.linspace(0,180,361)\n",
    "mu = np.cos(theta*np.pi/180)\n",
    "\n",
    "fig, ax = plt.subplots(figsize=(8,8))\n",
    "\n",
    "x=10\n",
    "s1,s2 = miepython.mie_S1_S2(m,x,mu)\n",
    "sone = 2.5*abs(s1)\n",
    "stwo = 2.5*abs(s2)\n",
    "plt.plot(theta,sone,'b')\n",
    "plt.plot(theta,stwo,'--r')\n",
    "plt.annotate('x=%.1f  '%x,xy=(theta[-1],sone[-1]),ha='right',va='bottom')\n",
    "\n",
    "x=5\n",
    "s1,s2 = miepython.mie_S1_S2(m,x,mu)\n",
    "sone = 2.5*abs(s1) + 1\n",
    "stwo = 2.5*abs(s2) + 1\n",
    "plt.plot(theta,sone,'b')\n",
    "plt.plot(theta,stwo,'--r')\n",
    "plt.annotate('x=%.1f  '%x,xy=(theta[-1],sone[-1]),ha='right',va='bottom')\n",
    "\n",
    "x=3\n",
    "s1,s2 = miepython.mie_S1_S2(m,x,mu)\n",
    "sone = 2.5*abs(s1) + 2\n",
    "stwo = 2.5*abs(s2) + 2\n",
    "plt.plot(theta,sone,'b')\n",
    "plt.plot(theta,stwo,'--r')\n",
    "plt.annotate('x=%.1f  '%x,xy=(theta[-1],sone[-1]),ha='right',va='bottom')\n",
    "\n",
    "x=1\n",
    "s1,s2 = miepython.mie_S1_S2(m,x,mu)\n",
    "sone = 2.5*abs(s1) + 3\n",
    "stwo = 2.5*abs(s2) + 3\n",
    "plt.plot(theta,sone,'b')\n",
    "plt.plot(theta,stwo,'--r')\n",
    "plt.annotate('x=%.1f  '%x,xy=(theta[-1],sone[-1]),ha='right',va='bottom')\n",
    "\n",
    "x=0.5\n",
    "s1,s2 = miepython.mie_S1_S2(m,x,mu)\n",
    "sone = 2.5*abs(s1) + 4\n",
    "stwo = 2.5*abs(s2) + 4\n",
    "plt.plot(theta,sone,'b')\n",
    "plt.plot(theta,stwo,'--r')\n",
    "plt.annotate('x=%.1f  '%x,xy=(theta[-1],sone[-1]),ha='right',va='bottom')\n",
    "\n",
    "plt.xlim(0,180)\n",
    "plt.ylim(0,5.5)\n",
    "plt.xticks(range(0,181,30))\n",
    "plt.yticks(np.arange(0,5.51,0.5))\n",
    "plt.title('Figure 29 from van de Hulst, Non-Absorbing Spheres')\n",
    "plt.xlabel('Angle (Degrees)')\n",
    "ax.set_yticklabels(['0','1/2','0','1/2','0','1/2','0','1/2','0','1/2','5',' '])\n",
    "plt.grid(True)\n",
    "plt.show()"
   ]
  },
  {
   "cell_type": "markdown",
   "metadata": {},
   "source": [
    "## Comparisons with Kerker, Angular Gain\n",
    "\n",
    "Another interesting graph is figure 4.51 from [*The Scattering of Light* by Kerker](https://www.sciencedirect.com/book/9780124045507/the-scattering-of-light-and-other-electromagnetic-radiation).  \n",
    "\n",
    "The angular gain is \n",
    "$$\n",
    "G_1 = \\frac{4}{x^2} |S_1(\\theta)|^2 \n",
    "\\qquad\\mbox{and}\\qquad\n",
    "G_2 = \\frac{4}{x^2} |S_2(\\theta)|^2 \n",
    "$$"
   ]
  },
  {
   "cell_type": "code",
   "execution_count": 17,
   "metadata": {},
   "outputs": [],
   "source": [
    "## Kerker, Angular Gain\n",
    "\n",
    "x=1\n",
    "m=10000\n",
    "\n",
    "theta = np.linspace(0,180,361)\n",
    "mu = np.cos(theta*np.pi/180)\n",
    "\n",
    "fig, ax = plt.subplots(figsize=(8,8))\n",
    "\n",
    "s1,s2 = miepython.mie_S1_S2(m,x,mu)\n",
    "\n",
    "G1 = 4*abs(s1)**2/x**2\n",
    "G2 = 4*abs(s2)**2/x**2\n",
    "\n",
    "plt.plot(theta,G1,'b')\n",
    "plt.plot(theta,G2,'--r')\n",
    "plt.annotate('$G_1$',xy=(50,0.36),color='blue',fontsize=14)\n",
    "plt.annotate('$G_2$',xy=(135,0.46),color='red',fontsize=14)\n",
    "\n",
    "plt.xlim(0,180)\n",
    "plt.xticks(range(0,181,30))\n",
    "plt.title('Figure 4.51 from Kerker, Non-Absorbing Spheres, x=1')\n",
    "plt.xlabel('Angle (Degrees)')\n",
    "plt.ylabel('Angular Gain')\n",
    "plt.show()"
   ]
  },
  {
   "cell_type": "code",
   "execution_count": null,
   "metadata": {},
   "outputs": [],
   "source": []
  }
 ],
 "metadata": {
  "kernelspec": {
   "display_name": "Python 3",
   "language": "python",
   "name": "python3"
  },
  "language_info": {
   "codemirror_mode": {
    "name": "ipython",
    "version": 3
   },
   "file_extension": ".py",
   "mimetype": "text/x-python",
   "name": "python",
   "nbconvert_exporter": "python",
   "pygments_lexer": "ipython3",
   "version": "3.7.6"
  },
  "toc": {
   "nav_menu": {},
   "number_sections": true,
   "sideBar": true,
   "skip_h1_title": false,
   "toc_cell": false,
   "toc_position": {
    "height": "796px",
    "left": "0px",
    "right": "1239px",
    "top": "106px",
    "width": "337px"
   },
   "toc_section_display": "block",
   "toc_window_display": true
  }
 },
 "nbformat": 4,
 "nbformat_minor": 4
}