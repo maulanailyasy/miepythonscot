{
 "cells": [
  {
   "cell_type": "markdown",
   "metadata": {},
   "source": [
    "# Mie Performance and Jitting\n",
    "\n",
    "**Scott Prahl**\n",
    "\n",
    "**Apr 2021**\n",
    "\n",
    "*If miepython is not installed, uncomment the following cell (i.e., delete the #) and run (shift-enter)*"
   ]
  },
  {
   "cell_type": "code",
   "execution_count": 1,
   "metadata": {},
   "outputs": [],
   "source": [
    "#!pip install --user miepython"
   ]
  },
  {
   "cell_type": "code",
   "execution_count": 6,
   "metadata": {},
   "outputs": [],
   "source": [
    "import numpy as np\n",
    "import matplotlib.pyplot as plt\n",
    "\n",
    "try:\n",
    "    import miepython.miepython as miepython_jit\n",
    "    import miepython.miepython_nojit as miepython\n",
    "\n",
    "except ModuleNotFoundError:\n",
    "    print('miepython not installed. To install, uncomment and run the cell above.')\n",
    "    print('Once installation is successful, rerun this cell again.')"
   ]
  },
  {
   "cell_type": "markdown",
   "metadata": {},
   "source": [
    "## Size Parameters\n",
    "\n",
    "We will use `%timeit` to see speeds for unjitted code, then jitted code"
   ]
  },
  {
   "cell_type": "code",
   "execution_count": 7,
   "metadata": {},
   "outputs": [
    {
     "name": "stdout",
     "output_type": "stream",
     "text": [
      "83.1 µs ± 1.31 µs per loop (mean ± std. dev. of 7 runs, 10000 loops each)\n",
      "667 µs ± 23.3 µs per loop (mean ± std. dev. of 7 runs, 1000 loops each)\n",
      "3.49 ms ± 147 µs per loop (mean ± std. dev. of 7 runs, 100 loops each)\n",
      "16 ms ± 341 µs per loop (mean ± std. dev. of 7 runs, 100 loops each)\n",
      "61.1 ms ± 1.38 ms per loop (mean ± std. dev. of 7 runs, 10 loops each)\n",
      "242 ms ± 7.89 ms per loop (mean ± std. dev. of 7 runs, 1 loop each)\n",
      "9.42 µs ± 220 ns per loop (mean ± std. dev. of 7 runs, 100000 loops each)\n",
      "18.4 µs ± 2.25 µs per loop (mean ± std. dev. of 7 runs, 100000 loops each)\n",
      "55.8 µs ± 3.23 µs per loop (mean ± std. dev. of 7 runs, 10000 loops each)\n",
      "209 µs ± 11.7 µs per loop (mean ± std. dev. of 7 runs, 1000 loops each)\n",
      "784 µs ± 16.9 µs per loop (mean ± std. dev. of 7 runs, 1000 loops each)\n",
      "3.57 ms ± 377 µs per loop (mean ± std. dev. of 7 runs, 100 loops each)\n"
     ]
    },
    {
     "data": {
      "image/png": "[encoded data removed]",
      "text/plain": [
       "<Figure size 432x288 with 1 Axes>"
      ]
     },
     "metadata": {
      "needs_background": "light"
     },
     "output_type": "display_data"
    }
   ],
   "source": [
    "ntests=6\n",
    "\n",
    "m=1.5\n",
    "N = np.logspace(0,3,ntests,dtype=int)\n",
    "result = np.zeros(ntests)\n",
    "resultj = np.zeros(ntests)\n",
    "\n",
    "for i in range(ntests):\n",
    "    x = np.linspace(0.1,20,N[i]) \n",
    "    a = %timeit -o qext, qsca, qback, g = miepython.mie(m,x)\n",
    "    result[i]=a.best\n",
    "\n",
    "for i in range(ntests):\n",
    "    x = np.linspace(0.1,20,N[i]) \n",
    "    a = %timeit -o qext, qsca, qback, g = miepython_jit.mie(m,x)\n",
    "    resultj[i]=a.best\n",
    "\n",
    "improvement = result/resultj\n",
    "plt.loglog(N,resultj,':r')\n",
    "plt.loglog(N,result,':b')\n",
    "plt.loglog(N,resultj,'or',label='jit')\n",
    "plt.loglog(N,result,'ob', label='no jit')\n",
    "plt.legend()\n",
    "plt.xlabel(\"Number of sphere sizes calculated\")\n",
    "plt.ylabel(\"Execution Time\")\n",
    "plt.title(\"Jit improvement is %d to %dX\"%(np.min(improvement),np.max(improvement)))\n",
    "plt.show()"
   ]
  },
  {
   "cell_type": "markdown",
   "metadata": {},
   "source": [
    "## Embedded spheres"
   ]
  },
  {
   "cell_type": "code",
   "execution_count": null,
   "metadata": {},
   "outputs": [],
   "source": [
    "ntests = 6\n",
    "mwater = 4/3   # rough approximation\n",
    "m=1.0\n",
    "mm = m/mwater\n",
    "r=500                            # nm\n",
    "\n",
    "N = np.logspace(0,3,ntests,dtype=int)\n",
    "result = np.zeros(ntests)\n",
    "resultj = np.zeros(ntests)\n",
    "\n",
    "for i in range(ntests):\n",
    "    lambda0 = np.linspace(300,800,N[i])  # also in nm\n",
    "    xx = 2*np.pi*r*mwater/lambda0\n",
    "    a = %timeit -o qext, qsca, qback, g = miepython.mie(mm,xx)\n",
    "    result[i]=a.best\n",
    "\n",
    "for i in range(ntests):\n",
    "    lambda0 = np.linspace(300,800,N[i])  # also in nm\n",
    "    xx = 2*np.pi*r*mwater/lambda0\n",
    "    a = %timeit -o qext, qsca, qback, g = miepython_jit.mie(mm,xx)\n",
    "    resultj[i]=a.best\n",
    "\n",
    "improvement = result/resultj\n",
    "plt.loglog(N,resultj,':r')\n",
    "plt.loglog(N,result,':b')\n",
    "plt.loglog(N,resultj,'or',label='jit')\n",
    "plt.loglog(N,result,'ob', label='no jit')\n",
    "plt.legend()\n",
    "plt.xlabel(\"Number of Wavelengths Calculated\")\n",
    "plt.ylabel(\"Execution Time\")\n",
    "plt.title(\"Jit improvement is %d to %dX\"%(np.min(improvement),np.max(improvement)))\n",
    "plt.show()"
   ]
  },
  {
   "cell_type": "markdown",
   "metadata": {},
   "source": [
    "## Testing `ez_mie`\n",
    "\n",
    "Another high level function that should be sped up by jitting."
   ]
  },
  {
   "cell_type": "code",
   "execution_count": null,
   "metadata": {},
   "outputs": [],
   "source": [
    "ntests=6\n",
    "m_sphere = 1.0\n",
    "n_water  = 4/3\n",
    "d = 1000                        # nm\n",
    "N = np.logspace(0,3,ntests,dtype=int)\n",
    "result = np.zeros(ntests)\n",
    "resultj = np.zeros(ntests)\n",
    "\n",
    "for i in range(ntests):\n",
    "    lambda0 = np.linspace(300,800,N[i])  # also in nm\n",
    "    a = %timeit -o qext, qsca, qback, g = miepython.ez_mie(m_sphere, d, lambda0, n_water)\n",
    "    result[i]=a.best\n",
    "\n",
    "for i in range(ntests):\n",
    "    lambda0 = np.linspace(300,800,N[i])  # also in nm\n",
    "    a = %timeit -o qext, qsca, qback, g = miepython_jit.ez_mie(m_sphere, d, lambda0, n_water)\n",
    "    resultj[i]=a.best\n",
    "\n",
    "improvement = result/resultj\n",
    "plt.loglog(N,resultj,':r')\n",
    "plt.loglog(N,result,':b')\n",
    "plt.loglog(N,resultj,'or',label='jit')\n",
    "plt.loglog(N,result,'ob', label='no jit')\n",
    "plt.legend()\n",
    "plt.xlabel(\"Number of Wavelengths Calculated\")\n",
    "plt.ylabel(\"Execution Time\")\n",
    "plt.title(\"Jit improvement is %d to %dX\"%(np.min(improvement),np.max(improvement)))\n",
    "plt.show()"
   ]
  },
  {
   "cell_type": "markdown",
   "metadata": {},
   "source": [
    "## Scattering Phase Function"
   ]
  },
  {
   "cell_type": "code",
   "execution_count": null,
   "metadata": {
    "tags": []
   },
   "outputs": [],
   "source": [
    "ntests = 6\n",
    "m = 1.5\n",
    "x = np.pi/3\n",
    "\n",
    "N = np.logspace(0,3,ntests,dtype=int)\n",
    "result = np.zeros(ntests)\n",
    "resultj = np.zeros(ntests)\n",
    "\n",
    "for i in range(ntests):\n",
    "    theta = np.linspace(-180,180,N[i])\n",
    "    mu = np.cos(theta/180*np.pi)\n",
    "    a = %timeit -o s1, s2 = miepython.mie_S1_S2(m,x,mu)\n",
    "    result[i]=a.best\n",
    "\n",
    "for i in range(ntests):\n",
    "    theta = np.linspace(-180,180,N[i])\n",
    "    mu = np.cos(theta/180*np.pi)\n",
    "    a = %timeit -o s1, s2 = miepython_jit.mie_S1_S2(m,x,mu)\n",
    "    resultj[i]=a.best\n",
    "\n",
    "improvement = result/resultj\n",
    "plt.loglog(N,resultj,':r')\n",
    "plt.loglog(N,result,':b')\n",
    "plt.loglog(N,resultj,'or',label='jit')\n",
    "plt.loglog(N,result,'ob', label='no jit')\n",
    "plt.legend()\n",
    "plt.xlabel(\"Number of Angles Calculated\")\n",
    "plt.ylabel(\"Execution Time\")\n",
    "plt.title(\"Jit improvement is %d to %dX\"%(np.min(improvement),np.max(improvement)))\n",
    "plt.show()"
   ]
  },
  {
   "cell_type": "markdown",
   "metadata": {},
   "source": [
    "## And finally, as function of sphere size"
   ]
  },
  {
   "cell_type": "code",
   "execution_count": null,
   "metadata": {},
   "outputs": [],
   "source": [
    "ntests=6\n",
    "m = 1.5-0.1j\n",
    "x = np.logspace(0,3,ntests)\n",
    "result = np.zeros(ntests)\n",
    "resultj = np.zeros(ntests)\n",
    "\n",
    "theta = np.linspace(-180,180)\n",
    "mu = np.cos(theta/180*np.pi)\n",
    "\n",
    "for i in range(ntests):\n",
    "    a = %timeit -o s1, s2 = miepython.mie_S1_S2(m,x[i],mu)\n",
    "    result[i]=a.best\n",
    "\n",
    "for i in range(ntests):\n",
    "    a = %timeit -o s1, s2 = miepython_jit.mie_S1_S2(m,x[i],mu)\n",
    "    resultj[i]=a.best\n",
    "\n",
    "improvement = result/resultj\n",
    "plt.loglog(N,resultj,':r')\n",
    "plt.loglog(N,result,':b')\n",
    "plt.loglog(N,resultj,'or',label='jit')\n",
    "plt.loglog(N,result,'ob', label='no jit')\n",
    "plt.legend()\n",
    "plt.xlabel(\"Sphere Size Parameter\")\n",
    "plt.ylabel(\"Execution Time\")\n",
    "plt.title(\"Jit improvement is %d to %dX\"%(np.min(improvement),np.max(improvement)))\n",
    "plt.show()"
   ]
  },
  {
   "cell_type": "code",
   "execution_count": null,
   "metadata": {},
   "outputs": [],
   "source": []
  }
 ],
 "metadata": {
  "kernelspec": {
   "display_name": "Python 3",
   "language": "python",
   "name": "python3"
  },
  "language_info": {
   "codemirror_mode": {
    "name": "ipython",
    "version": 3
   },
   "file_extension": ".py",
   "mimetype": "text/x-python",
   "name": "python",
   "nbconvert_exporter": "python",
   "pygments_lexer": "ipython3",
   "version": "3.9.1"
  },
  "toc": {
   "nav_menu": {},
   "number_sections": false,
   "sideBar": false,
   "skip_h1_title": false,
   "toc_cell": false,
   "toc_position": {},
   "toc_section_display": "block",
   "toc_window_display": false
  }
 },
 "nbformat": 4,
 "nbformat_minor": 4
}
